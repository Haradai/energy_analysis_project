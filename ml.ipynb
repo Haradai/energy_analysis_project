{
 "cells": [
  {
   "cell_type": "code",
   "execution_count": 2,
   "metadata": {},
   "outputs": [],
   "source": [
    "# Libraries\n",
    "\n",
    "import pickle\n",
    "import wandb\n",
    "import numpy as np\n",
    "\n",
    "from dataset import energyProject_dataset\n",
    "from sklearn.model_selection import train_test_split\n",
    "from torch.utils.data import DataLoader\n",
    "\n",
    "from sklearn.linear_model import LinearRegression\n",
    "from sklearn.preprocessing import PolynomialFeatures\n",
    "from sklearn.ensemble import RandomForestRegressor\n",
    "from sklearn.metrics import mean_squared_error, r2_score"
   ]
  },
  {
   "cell_type": "code",
   "execution_count": 87,
   "metadata": {},
   "outputs": [
    {
     "name": "stderr",
     "output_type": "stream",
     "text": [
      "wandb: Currently logged in as: juliagartor (energy_project_uab). Use `wandb login --relogin` to force relogin\n"
     ]
    }
   ],
   "source": [
    "!wandb login"
   ]
  },
  {
   "cell_type": "code",
   "execution_count": 88,
   "metadata": {},
   "outputs": [
    {
     "name": "stderr",
     "output_type": "stream",
     "text": [
      "C:\\Users\\Júlia Garcia Torné\\AppData\\Local\\Packages\\PythonSoftwareFoundation.Python.3.9_qbz5n2kfra8p0\\LocalCache\\local-packages\\Python39\\site-packages\\sklearn\\base.py:329: UserWarning: Trying to unpickle estimator MinMaxScaler from version 1.2.1 when using version 1.1.0. This might lead to breaking code or invalid results. Use at your own risk. For more info please refer to:\n",
      "https://scikit-learn.org/stable/modules/model_persistence.html#security-maintainability-limitations\n",
      "  warnings.warn(\n",
      "C:\\Users\\Júlia Garcia Torné\\AppData\\Local\\Packages\\PythonSoftwareFoundation.Python.3.9_qbz5n2kfra8p0\\LocalCache\\local-packages\\Python39\\site-packages\\sklearn\\base.py:329: UserWarning: Trying to unpickle estimator PCA from version 1.2.1 when using version 1.1.0. This might lead to breaking code or invalid results. Use at your own risk. For more info please refer to:\n",
      "https://scikit-learn.org/stable/modules/model_persistence.html#security-maintainability-limitations\n",
      "  warnings.warn(\n"
     ]
    }
   ],
   "source": [
    "#load dataset object file\n",
    "\n",
    "with (open('dataset_class.pkl', \"rb\")) as openfile:\n",
    "    dataset = pickle.load(openfile)\n"
   ]
  },
  {
   "cell_type": "code",
   "execution_count": 89,
   "metadata": {},
   "outputs": [],
   "source": [
    "data = dataset.__getitem__(34) #Only one sample"
   ]
  },
  {
   "cell_type": "code",
   "execution_count": 90,
   "metadata": {},
   "outputs": [
    {
     "data": {
      "text/plain": [
       "array([25.55,  1.5 , 69.6 ])"
      ]
     },
     "execution_count": 90,
     "metadata": {},
     "output_type": "execute_result"
    }
   ],
   "source": [
    "data[\"y\"].numpy()"
   ]
  },
  {
   "cell_type": "code",
   "execution_count": 91,
   "metadata": {},
   "outputs": [],
   "source": [
    "#Changin the dataset mode to 0\n",
    "\n",
    "dataset.activitivity_encoding_mode = 1"
   ]
  },
  {
   "cell_type": "code",
   "execution_count": 92,
   "metadata": {},
   "outputs": [],
   "source": [
    "train_dataset, test_dataset = train_test_split(dataset, test_size=0.2, random_state=42) #Split into train and test"
   ]
  },
  {
   "cell_type": "code",
   "execution_count": 136,
   "metadata": {},
   "outputs": [],
   "source": [
    "batch_size = 2  # Number of samples per batch\n",
    "shuffle = False\n",
    "\n",
    "train_dataloader = DataLoader(train_dataset, batch_size=batch_size, shuffle=shuffle)\n",
    "test_dataloader = DataLoader(test_dataset, batch_size=batch_size, shuffle=False)\n"
   ]
  },
  {
   "attachments": {},
   "cell_type": "markdown",
   "metadata": {},
   "source": [
    "- Linear Regression"
   ]
  },
  {
   "cell_type": "code",
   "execution_count": 108,
   "metadata": {},
   "outputs": [],
   "source": [
    "model = LinearRegression()"
   ]
  },
  {
   "cell_type": "code",
   "execution_count": 109,
   "metadata": {},
   "outputs": [],
   "source": [
    "for batch in train_dataloader:\n",
    "    \n",
    "    batch_features = batch['x'].numpy()\n",
    "    batch_labels =  batch['y'].numpy()\n",
    "\n",
    "    model.fit(batch_features, batch_labels)\n"
   ]
  },
  {
   "cell_type": "code",
   "execution_count": 117,
   "metadata": {},
   "outputs": [
    {
     "name": "stdout",
     "output_type": "stream",
     "text": [
      "Average Metrics:\n",
      "Mean Squared Error (MSE): 6138.7168359419\n",
      "Root Mean Squared Error (RMSE): 59.45904653597001\n",
      "R-squared (R2) Score: -25009.33794576965\n"
     ]
    }
   ],
   "source": [
    "mse_list = []\n",
    "rmse_list = []\n",
    "r2_list = []\n",
    "\n",
    "for batch in test_dataloader:\n",
    "    batch_features = batch['x'].numpy()\n",
    "    batch_labels = batch['y'].numpy()\n",
    "\n",
    "    y_pred = model.predict(batch_features)\n",
    "\n",
    "    mse = mean_squared_error(batch_labels, y_pred)\n",
    "    rmse = np.sqrt(mse)\n",
    "    r2 = r2_score(batch_labels, y_pred)\n",
    "\n",
    "    mse_list.append(mse)\n",
    "    rmse_list.append(rmse)\n",
    "    r2_list.append(r2)\n",
    "\n",
    "\n",
    "average_mse = sum(mse_list) / len(mse_list)\n",
    "average_rmse = sum(rmse_list) / len(rmse_list)\n",
    "average_r2 = sum(r2_list) / len(r2_list)\n",
    "\n",
    "print(\"Average Metrics:\")\n",
    "print(\"Mean Squared Error (MSE):\", average_mse)\n",
    "print(\"Root Mean Squared Error (RMSE):\", average_rmse)\n",
    "print(\"R-squared (R2) Score:\", average_r2)\n"
   ]
  },
  {
   "attachments": {},
   "cell_type": "markdown",
   "metadata": {},
   "source": [
    "- Polynomial Regression"
   ]
  },
  {
   "cell_type": "code",
   "execution_count": 124,
   "metadata": {},
   "outputs": [],
   "source": [
    "poly = PolynomialFeatures()"
   ]
  },
  {
   "cell_type": "code",
   "execution_count": 126,
   "metadata": {},
   "outputs": [],
   "source": [
    "for batch in train_dataloader:\n",
    "    \n",
    "    batch_features = batch['x'].numpy()\n",
    "    batch_labels = batch['y'].numpy()\n",
    "\n",
    "    X_poly = poly.fit_transform(batch_features)\n",
    "    \n",
    "    model = LinearRegression()\n",
    "    model.fit(X_poly, batch_labels)"
   ]
  },
  {
   "cell_type": "code",
   "execution_count": 129,
   "metadata": {},
   "outputs": [
    {
     "name": "stdout",
     "output_type": "stream",
     "text": [
      "Average Metrics:\n",
      "Mean Squared Error (MSE): 6135.024787578876\n",
      "Root Mean Squared Error (RMSE): 59.42835747460919\n",
      "R-squared (R2) Score: -24547.254748517516\n"
     ]
    }
   ],
   "source": [
    "mse_list = []\n",
    "rmse_list = []\n",
    "r2_list = []\n",
    "\n",
    "for batch in test_dataloader:\n",
    "\n",
    "    batch_features = batch['x'].numpy()\n",
    "    batch_labels = batch['y'].numpy()\n",
    "\n",
    "    x_new_poly = poly.transform(batch_features)\n",
    "    y_pred = model.predict(x_new_poly)\n",
    "\n",
    "    mse = mean_squared_error(batch_labels, y_pred)\n",
    "    rmse = np.sqrt(mse)\n",
    "    r2 = r2_score(batch_labels, y_pred)\n",
    "\n",
    "    mse_list.append(mse)\n",
    "    rmse_list.append(rmse)\n",
    "    r2_list.append(r2)\n",
    "\n",
    "average_mse = sum(mse_list) / len(mse_list)\n",
    "average_rmse = sum(rmse_list) / len(rmse_list)\n",
    "average_r2 = sum(r2_list) / len(r2_list)\n",
    "\n",
    "print(\"Average Metrics:\")\n",
    "print(\"Mean Squared Error (MSE):\", average_mse)\n",
    "print(\"Root Mean Squared Error (RMSE):\", average_rmse)\n",
    "print(\"R-squared (R2) Score:\", average_r2)\n"
   ]
  },
  {
   "attachments": {},
   "cell_type": "markdown",
   "metadata": {},
   "source": [
    "- Random Forests"
   ]
  },
  {
   "cell_type": "code",
   "execution_count": 137,
   "metadata": {},
   "outputs": [],
   "source": [
    "model = RandomForestRegressor(n_estimators=100, random_state=42)"
   ]
  },
  {
   "cell_type": "code",
   "execution_count": null,
   "metadata": {},
   "outputs": [],
   "source": [
    "for batch in train_dataloader:\n",
    "\n",
    "    batch_features = batch['x'].numpy()\n",
    "    batch_labels = batch['y'].numpy()\n",
    "\n",
    "    model.fit(batch_features, batch_labels)"
   ]
  },
  {
   "cell_type": "code",
   "execution_count": 135,
   "metadata": {},
   "outputs": [
    {
     "name": "stdout",
     "output_type": "stream",
     "text": [
      "Average Metrics:\n",
      "Mean Squared Error (MSE): 6189.588998893645\n",
      "Root Mean Squared Error (RMSE): 59.7398244785821\n",
      "R-squared (R2) Score: -22677.645100802984\n"
     ]
    }
   ],
   "source": [
    "mse_list = []\n",
    "rmse_list = []\n",
    "r2_list = []\n",
    "\n",
    "for batch in test_dataloader:\n",
    "    batch_features = batch['x'].numpy()\n",
    "    batch_labels = batch['y'].numpy()\n",
    "\n",
    "    y_pred = model.predict(batch_features)\n",
    "\n",
    "    mse = mean_squared_error(batch_labels, y_pred)\n",
    "    rmse = np.sqrt(mse)\n",
    "    r2 = r2_score(batch_labels, y_pred)\n",
    "\n",
    "    mse_list.append(mse)\n",
    "    rmse_list.append(rmse)\n",
    "    r2_list.append(r2)\n",
    "\n",
    "average_mse = sum(mse_list) / len(mse_list)\n",
    "average_rmse = sum(rmse_list) / len(rmse_list)\n",
    "average_r2 = sum(r2_list) / len(r2_list)\n",
    "\n",
    "print(\"Average Metrics:\")\n",
    "print(\"Mean Squared Error (MSE):\", average_mse)\n",
    "print(\"Root Mean Squared Error (RMSE):\", average_rmse)\n",
    "print(\"R-squared (R2) Score:\", average_r2)\n"
   ]
  }
 ],
 "metadata": {
  "kernelspec": {
   "display_name": "Python 3",
   "language": "python",
   "name": "python3"
  },
  "language_info": {
   "codemirror_mode": {
    "name": "ipython",
    "version": 3
   },
   "file_extension": ".py",
   "mimetype": "text/x-python",
   "name": "python",
   "nbconvert_exporter": "python",
   "pygments_lexer": "ipython3",
   "version": "3.9.13"
  },
  "orig_nbformat": 4
 },
 "nbformat": 4,
 "nbformat_minor": 2
}
