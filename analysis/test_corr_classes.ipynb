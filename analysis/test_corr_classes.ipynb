{
 "cells": [
  {
   "cell_type": "code",
   "execution_count": 6,
   "metadata": {},
   "outputs": [],
   "source": [
    "import pandas as pd\n",
    "import numpy as np"
   ]
  },
  {
   "cell_type": "code",
   "execution_count": 3,
   "metadata": {},
   "outputs": [],
   "source": [
    "ocupacio_df = pd.read_csv(\"Ocupacio_enginyeria.csv\")\n",
    "kwh_df = pd.read_csv(\"kWhperh_Humanitats.csv\")"
   ]
  },
  {
   "cell_type": "markdown",
   "metadata": {},
   "source": [
    "First try to look for the classrooms that correlate with higher energy consumption."
   ]
  },
  {
   "cell_type": "code",
   "execution_count": 8,
   "metadata": {},
   "outputs": [
    {
     "data": {
      "text/plain": [
       "array(['Q1/0003', 'Q1/0007', 'Q1/0019', 'Q1/1003', 'Q1/1007', 'Q1/1011',\n",
       "       'Q2/0007', 'Q2/0011', 'Q2/0013', 'Q2/0019', 'Q2/1003', 'Q2/1005',\n",
       "       'Q2/1009', 'Q2/1013', 'Q3/0003', 'Q3/0009', 'Q3/0013', 'Q3/1003',\n",
       "       'Q3/1007', 'Q3/1011', 'Q4/0003', 'Q4/0007', 'Q4/0011', 'Q4/1003',\n",
       "       'Q4/1005', 'Q4/1009', 'Q4/1013', 'Q5/2006', 'Q6/2007', 'QC/0011',\n",
       "       'QC/0015', 'QC/0019', 'QC/0029', 'QC/3115.1', 'QC/3115.2',\n",
       "       'QC/3115.3', 'QC/3115.4', 'QC/3115.5'], dtype=object)"
      ]
     },
     "execution_count": 8,
     "metadata": {},
     "output_type": "execute_result"
    }
   ],
   "source": [
    "classrooms = np.unique(ocupacio_df[\"Espai\"])\n",
    "classrooms"
   ]
  },
  {
   "cell_type": "code",
   "execution_count": 11,
   "metadata": {},
   "outputs": [
    {
     "data": {
      "text/plain": [
       "32      09:00\n",
       "67      09:00\n",
       "103     09:00\n",
       "115     09:30\n",
       "133     10:30\n",
       "167     11:00\n",
       "199     10:00\n",
       "362     15:00\n",
       "523     12:00\n",
       "1022    12:00\n",
       "1163    09:00\n",
       "2719    08:00\n",
       "Name: Hora inicial, dtype: object"
      ]
     },
     "execution_count": 11,
     "metadata": {},
     "output_type": "execute_result"
    }
   ],
   "source": [
    "ocupacio_df[ocupacio_df[\"Espai\"]==classrooms[0]][\"Hora inicial\"]"
   ]
  },
  {
   "cell_type": "code",
   "execution_count": 12,
   "metadata": {},
   "outputs": [
    {
     "data": {
      "text/html": [
       "<div>\n",
       "<style scoped>\n",
       "    .dataframe tbody tr th:only-of-type {\n",
       "        vertical-align: middle;\n",
       "    }\n",
       "\n",
       "    .dataframe tbody tr th {\n",
       "        vertical-align: top;\n",
       "    }\n",
       "\n",
       "    .dataframe thead th {\n",
       "        text-align: right;\n",
       "    }\n",
       "</style>\n",
       "<table border=\"1\" class=\"dataframe\">\n",
       "  <thead>\n",
       "    <tr style=\"text-align: right;\">\n",
       "      <th></th>\n",
       "      <th>Unnamed: 0</th>\n",
       "      <th>Date</th>\n",
       "      <th>Hour</th>\n",
       "      <th>L-Bibl.Humanitats (General) [kWh]</th>\n",
       "    </tr>\n",
       "  </thead>\n",
       "  <tbody>\n",
       "    <tr>\n",
       "      <th>0</th>\n",
       "      <td>0</td>\n",
       "      <td>01/01/2022</td>\n",
       "      <td>00:00</td>\n",
       "      <td>5,35</td>\n",
       "    </tr>\n",
       "    <tr>\n",
       "      <th>1</th>\n",
       "      <td>1</td>\n",
       "      <td>01/01/2022</td>\n",
       "      <td>01:00</td>\n",
       "      <td>4,64</td>\n",
       "    </tr>\n",
       "    <tr>\n",
       "      <th>2</th>\n",
       "      <td>2</td>\n",
       "      <td>01/01/2022</td>\n",
       "      <td>02:00</td>\n",
       "      <td>4,87</td>\n",
       "    </tr>\n",
       "    <tr>\n",
       "      <th>3</th>\n",
       "      <td>3</td>\n",
       "      <td>01/01/2022</td>\n",
       "      <td>03:00</td>\n",
       "      <td>5,43</td>\n",
       "    </tr>\n",
       "    <tr>\n",
       "      <th>4</th>\n",
       "      <td>4</td>\n",
       "      <td>01/01/2022</td>\n",
       "      <td>04:00</td>\n",
       "      <td>4,81</td>\n",
       "    </tr>\n",
       "    <tr>\n",
       "      <th>...</th>\n",
       "      <td>...</td>\n",
       "      <td>...</td>\n",
       "      <td>...</td>\n",
       "      <td>...</td>\n",
       "    </tr>\n",
       "    <tr>\n",
       "      <th>8011</th>\n",
       "      <td>8011</td>\n",
       "      <td>30/11/2022</td>\n",
       "      <td>19:00</td>\n",
       "      <td>80,70</td>\n",
       "    </tr>\n",
       "    <tr>\n",
       "      <th>8012</th>\n",
       "      <td>8012</td>\n",
       "      <td>30/11/2022</td>\n",
       "      <td>20:00</td>\n",
       "      <td>37,12</td>\n",
       "    </tr>\n",
       "    <tr>\n",
       "      <th>8013</th>\n",
       "      <td>8013</td>\n",
       "      <td>30/11/2022</td>\n",
       "      <td>21:00</td>\n",
       "      <td>24,40</td>\n",
       "    </tr>\n",
       "    <tr>\n",
       "      <th>8014</th>\n",
       "      <td>8014</td>\n",
       "      <td>30/11/2022</td>\n",
       "      <td>22:00</td>\n",
       "      <td>6,38</td>\n",
       "    </tr>\n",
       "    <tr>\n",
       "      <th>8015</th>\n",
       "      <td>8015</td>\n",
       "      <td>30/11/2022</td>\n",
       "      <td>23:00</td>\n",
       "      <td>6,86</td>\n",
       "    </tr>\n",
       "  </tbody>\n",
       "</table>\n",
       "<p>8016 rows × 4 columns</p>\n",
       "</div>"
      ],
      "text/plain": [
       "      Unnamed: 0        Date   Hour L-Bibl.Humanitats (General) [kWh]\n",
       "0              0  01/01/2022  00:00                              5,35\n",
       "1              1  01/01/2022  01:00                              4,64\n",
       "2              2  01/01/2022  02:00                              4,87\n",
       "3              3  01/01/2022  03:00                              5,43\n",
       "4              4  01/01/2022  04:00                              4,81\n",
       "...          ...         ...    ...                               ...\n",
       "8011        8011  30/11/2022  19:00                             80,70\n",
       "8012        8012  30/11/2022  20:00                             37,12\n",
       "8013        8013  30/11/2022  21:00                             24,40\n",
       "8014        8014  30/11/2022  22:00                              6,38\n",
       "8015        8015  30/11/2022  23:00                              6,86\n",
       "\n",
       "[8016 rows x 4 columns]"
      ]
     },
     "execution_count": 12,
     "metadata": {},
     "output_type": "execute_result"
    }
   ],
   "source": [
    "kwh_df"
   ]
  }
 ],
 "metadata": {
  "kernelspec": {
   "display_name": "Python 3.10.9 ('ML')",
   "language": "python",
   "name": "python3"
  },
  "language_info": {
   "codemirror_mode": {
    "name": "ipython",
    "version": 3
   },
   "file_extension": ".py",
   "mimetype": "text/x-python",
   "name": "python",
   "nbconvert_exporter": "python",
   "pygments_lexer": "ipython3",
   "version": "3.10.9"
  },
  "orig_nbformat": 4,
  "vscode": {
   "interpreter": {
    "hash": "da600ade1a771c82ddf6d22a5a41f856afbf3528a3611e1c80e3ac6da17c9450"
   }
  }
 },
 "nbformat": 4,
 "nbformat_minor": 2
}
